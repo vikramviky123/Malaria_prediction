{
 "cells": [
  {
   "cell_type": "code",
   "execution_count": 1,
   "metadata": {},
   "outputs": [
    {
     "name": "stdout",
     "output_type": "stream",
     "text": [
      "WARNING:tensorflow:From c:\\Users\\91981\\anaconda3\\Lib\\site-packages\\keras\\src\\losses.py:2976: The name tf.losses.sparse_softmax_cross_entropy is deprecated. Please use tf.compat.v1.losses.sparse_softmax_cross_entropy instead.\n",
      "\n"
     ]
    }
   ],
   "source": [
    "import numpy as np\n",
    "from tensorflow.keras.models import load_model\n",
    "from tensorflow.keras.preprocessing import image\n",
    "\n",
    "import os"
   ]
  },
  {
   "cell_type": "code",
   "execution_count": 13,
   "metadata": {},
   "outputs": [],
   "source": [
    "class PredictionPipeline:\n",
    "    def __init__(self, filename):\n",
    "        self.filename = filename\n",
    "\n",
    "    def predict(self):\n",
    "        # load model\n",
    "        model = load_model(os.path.join(\"artifacts\", \"trained_model\", \"model.h5\"))\n",
    "\n",
    "        imagename = self.filename\n",
    "        test_image = image.load_img(imagename, target_size=(224, 224))\n",
    "        test_image = image.img_to_array(test_image)\n",
    "        test_image = np.expand_dims(test_image, axis=0)\n",
    "        \n",
    "        preds = model.predict(test_image).tolist()[0]\n",
    "        pred_label = np.argmax(preds)\n",
    "        pred_prob = np.round(preds[pred_label],4)\n",
    "        \n",
    "        \n",
    "      \n",
    "        if pred_label == 0:\n",
    "            prediction = 'Parasitized'\n",
    "            return [{\"image\": prediction,\n",
    "                     \"prediction_label\": pred_label,\n",
    "                     \"prediction_probability\":pred_prob}]\n",
    "        else:\n",
    "            prediction = 'Uninfected'\n",
    "            return [{\"image\": prediction,\n",
    "                     \"prediction_label\": pred_label,\n",
    "                     \"prediction_probability\": pred_prob}]"
   ]
  },
  {
   "cell_type": "code",
   "execution_count": 3,
   "metadata": {},
   "outputs": [],
   "source": [
    "os.chdir('../')"
   ]
  },
  {
   "cell_type": "code",
   "execution_count": 4,
   "metadata": {},
   "outputs": [
    {
     "name": "stdout",
     "output_type": "stream",
     "text": [
      "c:\\Users\\91981\\Desktop\\GREAT LEARNING\\FROM SCRATCH LEARNING\\PROJETCS\\Malaria_prediction\n"
     ]
    }
   ],
   "source": [
    "print(os.getcwd())"
   ]
  },
  {
   "cell_type": "code",
   "execution_count": 27,
   "metadata": {},
   "outputs": [],
   "source": [
    "model = load_model(os.path.join(\"artifacts\", \"trained_model\", \"model.h5\"))\n",
    "\n",
    "imagename_uninf = 'research/C2NThinF_IMG_20150604_114730_cell_124.png'\n",
    "imagename_inf = 'research/C38P3thinF_original_IMG_20150621_112116_cell_204.png'\n",
    "test_image = image.load_img(imagename_uninf, target_size=(224, 224))\n",
    "test_image = image.img_to_array(test_image)\n",
    "test_image = np.expand_dims(test_image, axis=0)"
   ]
  },
  {
   "cell_type": "code",
   "execution_count": 28,
   "metadata": {},
   "outputs": [
    {
     "name": "stdout",
     "output_type": "stream",
     "text": [
      "1/1 [==============================] - 0s 437ms/step\n"
     ]
    }
   ],
   "source": [
    "preds =model.predict(test_image).tolist()[0]"
   ]
  },
  {
   "cell_type": "code",
   "execution_count": 29,
   "metadata": {},
   "outputs": [
    {
     "data": {
      "text/plain": [
       "[0.0, 1.0]"
      ]
     },
     "execution_count": 29,
     "metadata": {},
     "output_type": "execute_result"
    }
   ],
   "source": [
    "preds"
   ]
  },
  {
   "cell_type": "code",
   "execution_count": 24,
   "metadata": {},
   "outputs": [
    {
     "name": "stdout",
     "output_type": "stream",
     "text": [
      "1\n"
     ]
    }
   ],
   "source": [
    "result = np.argmax(preds)\n",
    "print(result)"
   ]
  },
  {
   "cell_type": "code",
   "execution_count": 25,
   "metadata": {},
   "outputs": [
    {
     "name": "stdout",
     "output_type": "stream",
     "text": [
      "1/1 [==============================] - 0s 425ms/step\n",
      "[{'image': 'Uninfected', 'prediction_label': 1, 'prediction_probability': 1.0}]\n"
     ]
    }
   ],
   "source": [
    "prd = PredictionPipeline(imagename_uninf)\n",
    "print(prd.predict())"
   ]
  },
  {
   "cell_type": "code",
   "execution_count": 26,
   "metadata": {},
   "outputs": [
    {
     "name": "stdout",
     "output_type": "stream",
     "text": [
      "1/1 [==============================] - 0s 413ms/step\n",
      "[{'image': 'Uninfected', 'prediction_label': 1, 'prediction_probability': 1.0}]\n"
     ]
    }
   ],
   "source": [
    "prd = PredictionPipeline(imagename_inf)\n",
    "print(prd.predict())"
   ]
  },
  {
   "cell_type": "code",
   "execution_count": null,
   "metadata": {},
   "outputs": [],
   "source": []
  }
 ],
 "metadata": {
  "kernelspec": {
   "display_name": "base",
   "language": "python",
   "name": "python3"
  },
  "language_info": {
   "codemirror_mode": {
    "name": "ipython",
    "version": 3
   },
   "file_extension": ".py",
   "mimetype": "text/x-python",
   "name": "python",
   "nbconvert_exporter": "python",
   "pygments_lexer": "ipython3",
   "version": "3.11.5"
  }
 },
 "nbformat": 4,
 "nbformat_minor": 2
}
